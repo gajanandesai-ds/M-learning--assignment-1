{
 "cells": [
  {
   "cell_type": "raw",
   "id": "1489bc8e",
   "metadata": {},
   "source": [
    "1. What does one mean by the term machine learning?"
   ]
  },
  {
   "cell_type": "raw",
   "id": "26f8e7cc",
   "metadata": {},
   "source": [
    "ans: Machine learning Popularly known as ml is a branch of Artificial Inteligence(AI) that allows software applications to become more accuraate at predicting outcomes without being explicitly programmed to do so.Machine learning algorithms use historical data as input to presict new output values. As it is evident from name, it gives the computer that makes it more similar to humans:The ability to learn. Machine learning is actively being used, perhaps in many more places than one would expect."
   ]
  },
  {
   "cell_type": "code",
   "execution_count": null,
   "id": "b0ce7208",
   "metadata": {},
   "outputs": [],
   "source": []
  },
  {
   "cell_type": "code",
   "execution_count": null,
   "id": "8a884b9c",
   "metadata": {},
   "outputs": [],
   "source": []
  },
  {
   "cell_type": "raw",
   "id": "a36d8dd9",
   "metadata": {},
   "source": [
    "2.Can you think of 4 distinct types of issues where it shines?"
   ]
  },
  {
   "cell_type": "raw",
   "id": "c91dfa91",
   "metadata": {},
   "source": [
    "ans: The following are some of the issues where machine learning can be used:\n",
    "\n",
    "Image Recongnition: Image reconganition is one of the most common applications of machine learning. It is used to identify objects,persons,places,digital images, etc. The popular use case of image recognition and face detection is Automatic friend tagging suggestion.\n",
    "\n",
    "Specch Reconganition: While using Google,we get an otion of Search by voice, it comes under speech recognition, and it's a popular appliction of machine learning. Sppech recognition is a process of converting voice instructions into text, and it is also known as Speech to text, or Computer based Speech recognition At present machine learning algorithms are widely used by various applictions of speech recognition. Google assistant,siri,cortana, and Alexa are using speech recognition technolos to follow the voice instruction.\n",
    "\n",
    "Traffic prediction: It predicts the traffic conditions such as whether traffic is cleared, slow-moving, or hevily congested with the help of two ways: Real time location of the vehicle form Google Map app and sensors Average time has teken on past days at the same time.\n",
    "\n",
    "product Recommendations: Machine learning is widely used by various e-commerce and entertainment companies such as Amzon, Netflix etc. For product recommendation to the user."
   ]
  },
  {
   "cell_type": "code",
   "execution_count": null,
   "id": "7e4d62f3",
   "metadata": {},
   "outputs": [],
   "source": []
  },
  {
   "cell_type": "code",
   "execution_count": null,
   "id": "d20ff27d",
   "metadata": {},
   "outputs": [],
   "source": []
  },
  {
   "cell_type": "raw",
   "id": "9c45f654",
   "metadata": {},
   "source": [
    "3.What is a labeled training set, and how does it work?"
   ]
  },
  {
   "cell_type": "raw",
   "id": "9feff9ad",
   "metadata": {},
   "source": [
    "ans: you split up the data containing known response variable values into two pieces. The training set is used to train the algorithm, and then we use the trained model on the test set to predict the response variable values that are already known. Clearly, it is better to have lableld data than unlabeled data since we can get much more information from them."
   ]
  },
  {
   "cell_type": "code",
   "execution_count": null,
   "id": "5e1b67e2",
   "metadata": {},
   "outputs": [],
   "source": []
  },
  {
   "cell_type": "code",
   "execution_count": null,
   "id": "c16969e5",
   "metadata": {},
   "outputs": [],
   "source": []
  },
  {
   "cell_type": "raw",
   "id": "c733adb5",
   "metadata": {},
   "source": [
    "4.What are the two most important tasks that are supervised?"
   ]
  },
  {
   "cell_type": "raw",
   "id": "5e6c22dd",
   "metadata": {},
   "source": [
    "ans:The two most common supervised learning tasks are Regrssion and Classification."
   ]
  },
  {
   "cell_type": "code",
   "execution_count": null,
   "id": "c139de03",
   "metadata": {},
   "outputs": [],
   "source": []
  },
  {
   "cell_type": "code",
   "execution_count": null,
   "id": "d1758111",
   "metadata": {},
   "outputs": [],
   "source": []
  },
  {
   "cell_type": "raw",
   "id": "45c153e6",
   "metadata": {},
   "source": [
    "5.Can you think of four examples of unsupervised tasks?"
   ]
  },
  {
   "cell_type": "raw",
   "id": "0b0e3b7e",
   "metadata": {},
   "source": [
    "ans:Four common Unsupervised Tasks included Clustering, Visualization, Dimensionality Reduction, and Association Rules Learning."
   ]
  },
  {
   "cell_type": "code",
   "execution_count": null,
   "id": "13f2933a",
   "metadata": {},
   "outputs": [],
   "source": []
  },
  {
   "cell_type": "code",
   "execution_count": null,
   "id": "8cb9b372",
   "metadata": {},
   "outputs": [],
   "source": []
  },
  {
   "cell_type": "raw",
   "id": "e790e80d",
   "metadata": {},
   "source": [
    "6.State the machine learning model that would be best to make a robot walk through various unfamiliar terrains?"
   ]
  },
  {
   "cell_type": "raw",
   "id": "845a15ef",
   "metadata": {},
   "source": [
    "ans:The best Machine learning algorithm to allow a Robot to walk in unfamilar terrains is Reinforced Learning, where the robot can learn from response of the terrain to optimize itself."
   ]
  },
  {
   "cell_type": "code",
   "execution_count": null,
   "id": "05d76dba",
   "metadata": {},
   "outputs": [],
   "source": []
  },
  {
   "cell_type": "code",
   "execution_count": null,
   "id": "5cd34425",
   "metadata": {},
   "outputs": [],
   "source": []
  },
  {
   "cell_type": "raw",
   "id": "16819b4a",
   "metadata": {},
   "source": [
    "7.Which algorithm will you use to divide your customers into different groups?"
   ]
  },
  {
   "cell_type": "raw",
   "id": "2a925c9f",
   "metadata": {},
   "source": [
    "ans:The Best Algorithm to Segment Customers into different groups is either Supervised Learning (if the groups have known lables) or Unspervised Learning(if there are no group lables.)."
   ]
  },
  {
   "cell_type": "code",
   "execution_count": null,
   "id": "1e9a0305",
   "metadata": {},
   "outputs": [],
   "source": []
  },
  {
   "cell_type": "code",
   "execution_count": null,
   "id": "985cedb3",
   "metadata": {},
   "outputs": [],
   "source": []
  },
  {
   "cell_type": "raw",
   "id": "030243b6",
   "metadata": {},
   "source": [
    "8.Will you consider the problem of spam detection to be a supervised or unsupervised learning problem?"
   ]
  },
  {
   "cell_type": "raw",
   "id": "b79842b5",
   "metadata": {},
   "source": [
    "ans:Spam detection is a Superised Machine Learing problem becases the labels are known (spam or no spam)."
   ]
  },
  {
   "cell_type": "code",
   "execution_count": null,
   "id": "8cae14ca",
   "metadata": {},
   "outputs": [],
   "source": []
  },
  {
   "cell_type": "code",
   "execution_count": null,
   "id": "494aebc6",
   "metadata": {},
   "outputs": [],
   "source": []
  },
  {
   "cell_type": "raw",
   "id": "37071e7e",
   "metadata": {},
   "source": [
    "9.What is the concept of an online learning system?"
   ]
  },
  {
   "cell_type": "raw",
   "id": "fe76f94d",
   "metadata": {},
   "source": [
    "ans:Online learing system is a learning system in which the machine learns continously, as data is given in small stream continuosuly."
   ]
  },
  {
   "cell_type": "code",
   "execution_count": null,
   "id": "2327e69f",
   "metadata": {},
   "outputs": [],
   "source": []
  },
  {
   "cell_type": "code",
   "execution_count": null,
   "id": "802153bd",
   "metadata": {},
   "outputs": [],
   "source": []
  },
  {
   "cell_type": "raw",
   "id": "aedf4912",
   "metadata": {},
   "source": [
    "10.What is out-of-core learning, and how does it differ from core learning?"
   ]
  },
  {
   "cell_type": "raw",
   "id": "02f0e9d9",
   "metadata": {},
   "source": [
    "ans:Out-of-core learning system is a system that can handle data that cannot fit into our computer memory. it uses online learning system to feed data in dmall bits."
   ]
  },
  {
   "cell_type": "code",
   "execution_count": null,
   "id": "a51eaca5",
   "metadata": {},
   "outputs": [],
   "source": []
  },
  {
   "cell_type": "code",
   "execution_count": null,
   "id": "055d701b",
   "metadata": {},
   "outputs": [],
   "source": []
  },
  {
   "cell_type": "raw",
   "id": "e8505fec",
   "metadata": {},
   "source": [
    "11.What kind of learning algorithm makes predictions using a similarity measure?"
   ]
  },
  {
   "cell_type": "raw",
   "id": "2de2e431",
   "metadata": {},
   "source": [
    "ans:Learning algorithm that relies on a similarity measure to make predictions is Instance Based Algorithm. The Machine Learning systems which are categorized as instance-based learning are the systems that learn the training examples by heart and then generalizes to new instances based on some similarity measure. It is called instance-based because it builds the hypotheses from the training instances. It is also known as memory-based learning or lazy-learning. The time complexity of this algorithm depends upon the size of training data. The worst-case time complexity of this algorithm is O (n), where n is the number of training instances.\n",
    "\n",
    "\n",
    "For example, If we were to create a spam filter with an instance-based learning algorithm, instead of just flagging emails that are already marked as spam emails, our spam filter would be programmed to also flag emails that are very similar to them. This requires a measure of resemblance between two emails. A similarity measure between two emails could be the same sender or the repetitive use of the same keywords or something else."
   ]
  },
  {
   "cell_type": "code",
   "execution_count": null,
   "id": "948024c9",
   "metadata": {},
   "outputs": [],
   "source": []
  },
  {
   "cell_type": "code",
   "execution_count": null,
   "id": "be84dfe9",
   "metadata": {},
   "outputs": [],
   "source": []
  },
  {
   "cell_type": "raw",
   "id": "06d4f43a",
   "metadata": {},
   "source": [
    "12.What's the difference between a model parameter and a hyperparameter in a learning algorithm?"
   ]
  },
  {
   "cell_type": "raw",
   "id": "5e66ca0f",
   "metadata": {},
   "source": [
    "ans: Model parameter determines how a model will predict given a new instance. Model usually has more than one parameter (i.e. slope of a linear model). Hyperparameter is a parameter for the learning algorithm, not of a model. Model parameters are estimated based on the data during model training and model hyperparameters are set manually and are used in processes to help estimate model parameters. Model hyperparameters are often referred to as parameters because they are the parts of the machine learning that must be set manually and tuned."
   ]
  },
  {
   "cell_type": "code",
   "execution_count": null,
   "id": "d42e9371",
   "metadata": {},
   "outputs": [],
   "source": []
  },
  {
   "cell_type": "code",
   "execution_count": null,
   "id": "8f19957d",
   "metadata": {},
   "outputs": [],
   "source": []
  },
  {
   "cell_type": "raw",
   "id": "f34116de",
   "metadata": {},
   "source": [
    "13.What are the criteria that model-based learning algorithms look for? What is the most popular method they use to achieve success? What method do they use to make predictions?"
   ]
  },
  {
   "cell_type": "raw",
   "id": "e81c2f2a",
   "metadata": {},
   "source": [
    "ans: Model based learning algorithm search for the optimal value of parameters in a model that will give the best results for the new instances. We often use a cost function or similar to determine what the parameter value has to be in order to minimize the function. The model makes prediction by using the value of the new instance and the parameters in its function. The goal for a model-based algorithm is to be able to generalize to new examples. To do this, model based algorithms search for optimal values for the model's parameters, often called theta. This searching, or \"learning\", is what machine learning is all about. Model-based system learn by minimizing a cost function that measures how bad the system is at making predicitons on new data, plus a penalty for model complexity if the model is regularized. To make a prediction, a new instance's features are fed into a hypothesis function which uses the minimized theta found by repeatedly running the cost function."
   ]
  },
  {
   "cell_type": "code",
   "execution_count": null,
   "id": "f4d96488",
   "metadata": {},
   "outputs": [],
   "source": []
  },
  {
   "cell_type": "code",
   "execution_count": null,
   "id": "3f16e8ef",
   "metadata": {},
   "outputs": [],
   "source": []
  },
  {
   "cell_type": "raw",
   "id": "2284609c",
   "metadata": {},
   "source": [
    "14.Can you name four of the most important Machine Learning challenges?"
   ]
  },
  {
   "cell_type": "raw",
   "id": "101bce6f",
   "metadata": {},
   "source": [
    "ans: Four main challenges in /machine Learning include the following:\n",
    "\n",
    "1.Overfitting the Data (using a model too Complicated)\n",
    "2.Underfitting the data(using a simple model)\n",
    "3.Lacking in Data\n",
    "4.Non Representative Data."
   ]
  },
  {
   "cell_type": "code",
   "execution_count": null,
   "id": "baf8e4ab",
   "metadata": {},
   "outputs": [],
   "source": []
  },
  {
   "cell_type": "code",
   "execution_count": null,
   "id": "27b3e774",
   "metadata": {},
   "outputs": [],
   "source": []
  },
  {
   "cell_type": "raw",
   "id": "aeda8eed",
   "metadata": {},
   "source": [
    "15.What happens if the model performs well on the training data but fails to generalize the results to new situations? Can you think of three different options?"
   ]
  },
  {
   "cell_type": "raw",
   "id": "e55cf852",
   "metadata": {},
   "source": [
    "ans: if the model poorly to new instances, then it has overfitted on the training data. To solve this, we can do any of the following there:\n",
    "\n",
    ">>Get more data\n",
    ">>Implement a simpler model\n",
    ">>Elimanate outliers or noise from the existing data set."
   ]
  },
  {
   "cell_type": "code",
   "execution_count": null,
   "id": "d78bffee",
   "metadata": {},
   "outputs": [],
   "source": []
  },
  {
   "cell_type": "code",
   "execution_count": null,
   "id": "4e0d29c0",
   "metadata": {},
   "outputs": [],
   "source": []
  },
  {
   "cell_type": "raw",
   "id": "2689916e",
   "metadata": {},
   "source": [
    "16.What exactly is a test set, and why would you need one?"
   ]
  },
  {
   "cell_type": "raw",
   "id": "660104a4",
   "metadata": {},
   "source": [
    "ans:Test set is a set to test your model (fit using training data) to see how it performs.Test set is necessary to determine how good (or bad) a model performs. When we want to know how well our model generalizes to new cases we prefer to use a test set instead of actually deploying the system. To build the test set we split the training data (50-50, 60-40, 80-20 are common splits) into a training set and test set. Our model is training with the training set. Then we use the model to run predictions on the test set. Our error rate on the test set is called the generalization error or out-of-sample error. This error tells us how well our model performs on examples it has never seen before.\n",
    "\n",
    "If the training error is low, but the generalization error is high, it means we're overfitting our model."
   ]
  },
  {
   "cell_type": "code",
   "execution_count": null,
   "id": "1461f876",
   "metadata": {},
   "outputs": [],
   "source": []
  },
  {
   "cell_type": "code",
   "execution_count": null,
   "id": "1fe33ef4",
   "metadata": {},
   "outputs": [],
   "source": []
  },
  {
   "cell_type": "raw",
   "id": "1c2d4a4a",
   "metadata": {},
   "source": [
    "17.What is a validation set's purpose?"
   ]
  },
  {
   "cell_type": "raw",
   "id": "670b2d31",
   "metadata": {},
   "source": [
    "ans: Validation set is a set used to compare between different training models. Let's say we have a linear model and we want to perform some hyperparameter tuning to reduce the generalization error. One way to do this 100 different models with 100 different hyperparameter values using the training set and finding the generalization error with the test set. You find the best hyperparameter value gives you 5% generalization error.\n",
    "\n",
    "So you launch the model into production and find you're seeing 15% generalization error. This isn't going as expected. What happened?\n",
    "\n",
    "The problem is that for each iteration of hyperparameter tuning, you measured the generalization error then updated the model using the same test set. In other words, your produced the best generalization error for the test set. The test set no longer represents cases the model hasn't seen before.\n",
    "\n",
    "A common solution to this problem is to have a second holdout set called the validation set. You train multiple models with various hyperparameters using the training set, you select the model and hyperparameters that perform best on the validation set, and when you are happy about your model you run a single final test against the test set to get an estimate of the generalization error."
   ]
  },
  {
   "cell_type": "code",
   "execution_count": null,
   "id": "c16783ac",
   "metadata": {},
   "outputs": [],
   "source": []
  },
  {
   "cell_type": "code",
   "execution_count": null,
   "id": "f1c0259f",
   "metadata": {},
   "outputs": [],
   "source": []
  },
  {
   "cell_type": "raw",
   "id": "fea2121c",
   "metadata": {},
   "source": [
    "18.What precisely is the train-dev kit, when will you need it, how do you put it to use?"
   ]
  },
  {
   "cell_type": "raw",
   "id": "ed552311",
   "metadata": {},
   "source": [
    "ans: Cross-validation is a tool to compare models without needing a separate validation set. It is preferred over validation set because we can save from breaking of part of the training set to create a validation set, as having more data is valuable regardless."
   ]
  },
  {
   "cell_type": "code",
   "execution_count": null,
   "id": "5da97db1",
   "metadata": {},
   "outputs": [],
   "source": []
  },
  {
   "cell_type": "code",
   "execution_count": null,
   "id": "2cfc9de9",
   "metadata": {},
   "outputs": [],
   "source": []
  },
  {
   "cell_type": "raw",
   "id": "ea87f49a",
   "metadata": {},
   "source": [
    "19.What could go wrong if you use the test set to tune hyperparameters?"
   ]
  },
  {
   "cell_type": "raw",
   "id": "1116e10b",
   "metadata": {},
   "source": [
    "ans:If you tune hyperparameters using the test sets, then it may not perform well on the out-of-sample data because the model is tuned just for that specific set. Our model will not be generalizable to new examples."
   ]
  },
  {
   "cell_type": "code",
   "execution_count": null,
   "id": "e9e95a3c",
   "metadata": {},
   "outputs": [],
   "source": []
  },
  {
   "cell_type": "code",
   "execution_count": null,
   "id": "c69247b2",
   "metadata": {},
   "outputs": [],
   "source": []
  },
  {
   "cell_type": "code",
   "execution_count": null,
   "id": "2ccd97ff",
   "metadata": {},
   "outputs": [],
   "source": []
  }
 ],
 "metadata": {
  "kernelspec": {
   "display_name": "Python 3",
   "language": "python",
   "name": "python3"
  },
  "language_info": {
   "codemirror_mode": {
    "name": "ipython",
    "version": 3
   },
   "file_extension": ".py",
   "mimetype": "text/x-python",
   "name": "python",
   "nbconvert_exporter": "python",
   "pygments_lexer": "ipython3",
   "version": "3.8.8"
  }
 },
 "nbformat": 4,
 "nbformat_minor": 5
}
